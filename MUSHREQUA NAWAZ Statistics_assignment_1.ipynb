{
 "cells": [
  {
   "cell_type": "code",
   "execution_count": 0,
   "metadata": {
    "colab": {},
    "colab_type": "code",
    "id": "fwKwbkuXZtoO"
   },
   "outputs": [],
   "source": [
    "# Write your code in jupyter notebook and upload it to github and share the link for submission"
   ]
  },
  {
   "cell_type": "code",
   "execution_count": 1,
   "metadata": {},
   "outputs": [],
   "source": [
    "import numpy as np\n",
    "import pandas as pd\n",
    "import matplotlib.pyplot as plt\n",
    "import seaborn as sns\n",
    "matches = pd.read_csv(\"matches.csv\")\n",
    "delivery = pd.read_csv(\"deliveries.csv\")"
   ]
  },
  {
   "cell_type": "markdown",
   "metadata": {
    "colab_type": "text",
    "id": "vre5sNOcZ42y"
   },
   "source": [
    "**Question 1.** \n",
    "\n",
    "You have to create a function that receives a list of numbers like [23,14,13,56,78,98,12] and returns it's Interquartile range(IQR)\n",
    "\n",
    "Note: You have to code the logic from scratch"
   ]
  },
  {
   "cell_type": "code",
   "execution_count": 2,
   "metadata": {},
   "outputs": [
    {
     "name": "stdout",
     "output_type": "stream",
     "text": [
      "[12, 13, 14, 23, 56, 78, 98]\n",
      "the interquartile range is: 65\n"
     ]
    }
   ],
   "source": [
    "\n",
    "def func(user_list):\n",
    "    user_list.sort()\n",
    "    print(user_list)\n",
    "    n=len(user_list)\n",
    "    first_quartile=user_list[int(n/4)]\n",
    "    third_quartile=user_list[int((3*n)/4)]\n",
    "    IQR=third_quartile-first_quartile\n",
    "    return IQR\n",
    "\n",
    "\n",
    "print(\"the interquartile range is:\",func([23,14,13,56,78,98,12]))"
   ]
  },
  {
   "cell_type": "markdown",
   "metadata": {
    "colab_type": "text",
    "id": "zhGgTofubucf"
   },
   "source": [
    "**Question 2:**\n",
    "\n",
    " Plot a histogram for total team scores for all IPL games.\n",
    "\n",
    "Note: Per match 2 teams will play hence total number scores would be = no. of matches * 2"
   ]
  },
  {
   "cell_type": "code",
   "execution_count": 3,
   "metadata": {},
   "outputs": [
    {
     "data": {
      "image/png": "[encoded data removed]",
      "text/plain": [
       "<Figure size 432x288 with 1 Axes>"
      ]
     },
     "metadata": {
      "needs_background": "light"
     },
     "output_type": "display_data"
    }
   ],
   "source": [
    "\n",
    "data = delivery.groupby([\"match_id\",\"inning\"])\n",
    "data2= data[\"total_runs\"].sum()\n",
    "plt.hist(data2, bins=range(min(data2), max(data2) + 5, 5))\n",
    "plt.show()\n"
   ]
  },
  {
   "cell_type": "markdown",
   "metadata": {
    "colab_type": "text",
    "id": "LraNGEw4cCSI"
   },
   "source": [
    "**Question 3.**\n",
    "\n",
    " Find the skewness of bowler economy data where the bowler has bowled a minimum of 300 balls.\n",
    "\n",
    "Note : if you don't know about economy read this https://en.wikipedia.org/wiki/Economy_rate_(cricket)"
   ]
  },
  {
   "cell_type": "code",
   "execution_count": 4,
   "metadata": {},
   "outputs": [
    {
     "name": "stdout",
     "output_type": "stream",
     "text": [
      "Skewness = 0.12874757824823746\n"
     ]
    },
    {
     "name": "stderr",
     "output_type": "stream",
     "text": [
      "C:\\Users\\nawaz\\Anaconda3\\lib\\site-packages\\statsmodels\\nonparametric\\kde.py:447: RuntimeWarning: invalid value encountered in greater\n",
      "  X = X[np.logical_and(X > clip[0], X < clip[1])] # won't work for two columns.\n",
      "C:\\Users\\nawaz\\Anaconda3\\lib\\site-packages\\statsmodels\\nonparametric\\kde.py:447: RuntimeWarning: invalid value encountered in less\n",
      "  X = X[np.logical_and(X > clip[0], X < clip[1])] # won't work for two columns.\n"
     ]
    },
    {
     "data": {
      "text/plain": [
       "<matplotlib.axes._subplots.AxesSubplot at 0x1654dba6348>"
      ]
     },
     "execution_count": 4,
     "metadata": {},
     "output_type": "execute_result"
    },
    {
     "data": {
      "image/png": "[encoded data removed]",
      "text/plain": [
       "<Figure size 432x288 with 1 Axes>"
      ]
     },
     "metadata": {
      "needs_background": "light"
     },
     "output_type": "display_data"
    }
   ],
   "source": [
    "balls=delivery.groupby('bowler')['bowler'].count()\n",
    "balls300=balls>300\n",
    "df=delivery[delivery['bowler'].isin(balls[balls300].index)]\n",
    "bowler = df.groupby(\"bowler\")\n",
    "runs = bowler[[\"wide_runs\", \"noball_runs\", \"batsman_runs\"]].sum()\n",
    "runs = runs[\"wide_runs\"] + runs[\"noball_runs\"] + runs[\"batsman_runs\"]\n",
    "overs = balls/6\n",
    "economy = runs/overs \n",
    "print(\"Skewness =\",economy.skew())\n",
    "sns.kdeplot(economy)\n"
   ]
  },
  {
   "cell_type": "markdown",
   "metadata": {
    "colab_type": "text",
    "id": "rPh3aUBSdvjW"
   },
   "source": [
    "**Question 4:**\n",
    "\n",
    "Give three examples of negatively skewed data and 3 examples of positively skewed data"
   ]
  },
  {
   "cell_type": "code",
   "execution_count": 2,
   "metadata": {
    "colab": {},
    "colab_type": "code",
    "id": "nggmjDQDaMKs"
   },
   "outputs": [],
   "source": [
    "Negative skewness:\n",
    "A distribution is negatively skewed if the scores fall toward the higher side of the scale and there are very few low scores.\n",
    "Example:\n",
    "    1.the test conducted by the school in which difficulty level is easy then the tail is found to be in the left hand side \n",
    "       meaning most student performs well.\n",
    "    2.growth in height w.r.t age\n",
    "    3.retirement age varies from late fifties to early sixty in most cases, but a slight deviation may also occur in some \n",
    "      cases. \n",
    "Positive skewness:\n",
    "A distribution is positively skewed if the scores fall toward the lower side of the scale and there are very few higher scores.\n",
    "Example:\n",
    "    1.distribution of income ranges may tend to lower towards right hand side as less people ma have very high income\n",
    "    2.the test conducted by the school in which difficulty level is high then the tail is found to be in the right hand side \n",
    "       meaning most student performs poorly.\n",
    "    3.elevation of landmass and atmospheric temperature    "
   ]
  },
  {
   "cell_type": "code",
   "execution_count": 3,
   "metadata": {},
   "outputs": [],
   "source": []
  },
  {
   "cell_type": "code",
   "execution_count": null,
   "metadata": {},
   "outputs": [],
   "source": []
  }
 ],
 "metadata": {
  "colab": {
   "name": "Statistics-assignment-1.ipynb",
   "provenance": []
  },
  "kernelspec": {
   "display_name": "Python 3",
   "language": "python",
   "name": "python3"
  },
  "language_info": {
   "codemirror_mode": {
    "name": "ipython",
    "version": 3
   },
   "file_extension": ".py",
   "mimetype": "text/x-python",
   "name": "python",
   "nbconvert_exporter": "python",
   "pygments_lexer": "ipython3",
   "version": "3.7.4"
  }
 },
 "nbformat": 4,
 "nbformat_minor": 1
}
